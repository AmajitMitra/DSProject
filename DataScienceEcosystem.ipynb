{
 "cells": [
  {
   "cell_type": "markdown",
   "id": "aae3d1cb-4643-4aec-bff8-e1bdb9c49d2c",
   "metadata": {},
   "source": [
    "# Data Science Tools and Ecosystem"
   ]
  },
  {
   "cell_type": "markdown",
   "id": "393553c9-ef65-4ee4-8218-cc30757ec9e6",
   "metadata": {},
   "source": [
    "In this notebook, Data Science Tools and Ecosystem are summarized."
   ]
  },
  {
   "cell_type": "markdown",
   "id": "a8570b1c-a6e4-417d-aae2-26a1286163c0",
   "metadata": {},
   "source": [
    "*Objectives*\n",
    "- Data Science Tools\n",
    "- Language of Data Science\n",
    "- Data Libraries\n",
    "- Jupyter Notebook"
   ]
  },
  {
   "cell_type": "markdown",
   "id": "4dfa8eb6-c883-49f1-aaa7-932fca835c11",
   "metadata": {},
   "source": [
    "Some of the popular languages that Data Scientists use are:\n",
    "1. Python\n",
    "2. SQL\n",
    "3. R\n",
    "4. Julia\n",
    "5. Scala"
   ]
  },
  {
   "cell_type": "markdown",
   "id": "59475489-b5cb-42c3-9542-68c0761fc1e0",
   "metadata": {},
   "source": [
    "Some of the commonly used libraries used by Data Scientists include:\n",
    "1. Pandas\n",
    "2. Numpy\n",
    "3. SciPy\n",
    "4. Matplotlib"
   ]
  },
  {
   "cell_type": "markdown",
   "id": "b1fb06f7-e0e8-44cc-a8e5-622c51aee3c6",
   "metadata": {},
   "source": [
    "| Data Science Tools |\n",
    "| ------------------ |\n",
    "| Jupyter Notebook |\n",
    "| Jupyter Lab |\n",
    "| Apache Zeppeline |\n",
    "| RStudio |"
   ]
  },
  {
   "cell_type": "markdown",
   "id": "3e726543-ffb9-4efe-b14e-cd85f0b9dd64",
   "metadata": {},
   "source": [
    "### Below are a few examples of evaluating arithmetic expressions in Python"
   ]
  },
  {
   "cell_type": "markdown",
   "id": "d0f8283d-26b5-4795-80ac-714f9cf01445",
   "metadata": {},
   "source": [
    "This a simple arithmetic expression to mutiply then add integers"
   ]
  },
  {
   "cell_type": "code",
   "execution_count": 3,
   "id": "8f16eb73-f3a4-486e-9014-ce613aa34311",
   "metadata": {},
   "outputs": [
    {
     "data": {
      "text/plain": [
       "17"
      ]
     },
     "execution_count": 3,
     "metadata": {},
     "output_type": "execute_result"
    }
   ],
   "source": [
    "(3*4)+5"
   ]
  },
  {
   "cell_type": "markdown",
   "id": "8b4d1065-80ba-404f-8aea-d7ea836802f5",
   "metadata": {},
   "source": [
    "This will convert 200 minutes to hours by diving by 60"
   ]
  },
  {
   "cell_type": "code",
   "execution_count": 11,
   "id": "26426b62-3d01-4d54-a4b5-74cab5009755",
   "metadata": {},
   "outputs": [
    {
     "data": {
      "text/plain": [
       "3.3333333333333335"
      ]
     },
     "execution_count": 11,
     "metadata": {},
     "output_type": "execute_result"
    }
   ],
   "source": [
    "minutes = 200\n",
    "hours = minutes / 60\n",
    "hours"
   ]
  },
  {
   "cell_type": "markdown",
   "id": "976eeda3-6a35-44f0-b102-2718dd187ceb",
   "metadata": {},
   "source": [
    "## Author\n",
    "Amajit Mitra"
   ]
  },
  {
   "cell_type": "code",
   "execution_count": null,
   "id": "4aeb4df2-dd17-4c2b-8626-e5d6d9f77353",
   "metadata": {},
   "outputs": [],
   "source": []
  }
 ],
 "metadata": {
  "kernelspec": {
   "display_name": "Python 3 (ipykernel)",
   "language": "python",
   "name": "python3"
  },
  "language_info": {
   "codemirror_mode": {
    "name": "ipython",
    "version": 3
   },
   "file_extension": ".py",
   "mimetype": "text/x-python",
   "name": "python",
   "nbconvert_exporter": "python",
   "pygments_lexer": "ipython3",
   "version": "3.12.8"
  }
 },
 "nbformat": 4,
 "nbformat_minor": 5
}
